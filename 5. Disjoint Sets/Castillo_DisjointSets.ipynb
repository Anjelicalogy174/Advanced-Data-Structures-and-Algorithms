{
  "nbformat": 4,
  "nbformat_minor": 0,
  "metadata": {
    "colab": {
      "provenance": []
    },
    "kernelspec": {
      "name": "python3",
      "display_name": "Python 3"
    },
    "language_info": {
      "name": "python"
    }
  },
  "cells": [
    {
      "cell_type": "markdown",
      "source": [
        "# Disjoint Sets\n",
        "Castillo, Anjelica M."
      ],
      "metadata": {
        "id": "RnRwDLuJIuXl"
      }
    },
    {
      "cell_type": "markdown",
      "source": [
        "Given:\n",
        "\n",
        "Students: 0, 1, 2, 3, 4\n",
        "\n",
        "Union(0, 1) → Students 0 and 1 join the same team.\n",
        "\n",
        "Union(1, 2) → Student 2 joins the team of 0 and 1.\n",
        "\n",
        "Union(3, 4) → Students 3 and 4 form another team.\n",
        "\n",
        "Find(0) → Which team is student 0 in?\n",
        "\n",
        "Find(3) → Which team is student 3 in?\n",
        "\n",
        "Union(2, 4) → Merge the two teams together into a single team!"
      ],
      "metadata": {
        "id": "3w9_97rwJLEZ"
      }
    },
    {
      "cell_type": "code",
      "source": [
        "!pip install graphviz\n",
        "!pip install ipython"
      ],
      "metadata": {
        "colab": {
          "base_uri": "https://localhost:8080/"
        },
        "id": "eA8Ak7nSI_2m",
        "outputId": "235e3db0-4029-4d5e-a2e1-7ac26ada3b10"
      },
      "execution_count": 9,
      "outputs": [
        {
          "output_type": "stream",
          "name": "stdout",
          "text": [
            "Requirement already satisfied: graphviz in /usr/local/lib/python3.11/dist-packages (0.20.3)\n",
            "Requirement already satisfied: ipython in /usr/local/lib/python3.11/dist-packages (7.34.0)\n",
            "Requirement already satisfied: setuptools>=18.5 in /usr/local/lib/python3.11/dist-packages (from ipython) (75.2.0)\n",
            "Requirement already satisfied: jedi>=0.16 in /usr/local/lib/python3.11/dist-packages (from ipython) (0.19.2)\n",
            "Requirement already satisfied: decorator in /usr/local/lib/python3.11/dist-packages (from ipython) (4.4.2)\n",
            "Requirement already satisfied: pickleshare in /usr/local/lib/python3.11/dist-packages (from ipython) (0.7.5)\n",
            "Requirement already satisfied: traitlets>=4.2 in /usr/local/lib/python3.11/dist-packages (from ipython) (5.7.1)\n",
            "Requirement already satisfied: prompt-toolkit!=3.0.0,!=3.0.1,<3.1.0,>=2.0.0 in /usr/local/lib/python3.11/dist-packages (from ipython) (3.0.51)\n",
            "Requirement already satisfied: pygments in /usr/local/lib/python3.11/dist-packages (from ipython) (2.18.0)\n",
            "Requirement already satisfied: backcall in /usr/local/lib/python3.11/dist-packages (from ipython) (0.2.0)\n",
            "Requirement already satisfied: matplotlib-inline in /usr/local/lib/python3.11/dist-packages (from ipython) (0.1.7)\n",
            "Requirement already satisfied: pexpect>4.3 in /usr/local/lib/python3.11/dist-packages (from ipython) (4.9.0)\n",
            "Requirement already satisfied: parso<0.9.0,>=0.8.4 in /usr/local/lib/python3.11/dist-packages (from jedi>=0.16->ipython) (0.8.4)\n",
            "Requirement already satisfied: ptyprocess>=0.5 in /usr/local/lib/python3.11/dist-packages (from pexpect>4.3->ipython) (0.7.0)\n",
            "Requirement already satisfied: wcwidth in /usr/local/lib/python3.11/dist-packages (from prompt-toolkit!=3.0.0,!=3.0.1,<3.1.0,>=2.0.0->ipython) (0.2.13)\n"
          ]
        }
      ]
    },
    {
      "cell_type": "markdown",
      "source": [
        "# Disjoint Set Implementation\n",
        "#### The DisjointSet class manages a collection of sets (in this case, teams) where each element (student) belongs to exactly one set (team)."
      ],
      "metadata": {
        "id": "-CdptRTHJUg-"
      }
    },
    {
      "cell_type": "code",
      "source": [
        "class DisjointSet:\n",
        "    def __init__(self, n):\n",
        "        self.parent = list(range(n))\n",
        "\n",
        "    def find(self, x):\n",
        "        if self.parent[x] != x:\n",
        "            self.parent[x] = self.find(self.parent[x])\n",
        "        return self.parent[x]"
      ],
      "metadata": {
        "id": "U3b_ZjToLv5d"
      },
      "execution_count": 44,
      "outputs": []
    },
    {
      "cell_type": "markdown",
      "source": [
        "# Unite the teams that contain student 'x' and student 'y'.\n",
        "- This effectively merges two teams into one.\n",
        "- Use a simplified form of union by rank here (attaching one root to the other) to maintain a relatively efficient tree structure."
      ],
      "metadata": {
        "id": "wTAwHW-CJgvC"
      }
    },
    {
      "cell_type": "code",
      "source": [
        "def union(self, x, y):\n",
        "    root_x = self.find(x)  # Corrected: Use root_x\n",
        "    root_y = self.find(y)  # Corrected: Use root_y\n",
        "    if root_x != root_y:\n",
        "        self.parent[root_y] = root_x"
      ],
      "metadata": {
        "id": "jDnzp1mGJfN0"
      },
      "execution_count": 45,
      "outputs": []
    },
    {
      "cell_type": "markdown",
      "source": [
        "  # Retrieve all the distinct teams currently formed.\n",
        "- Returns a dictionary where keys are the team leaders (representatives) and\n",
        "- values are the list of students belonging to each team."
      ],
      "metadata": {
        "id": "bYZmFGzzJqBV"
      }
    },
    {
      "cell_type": "code",
      "source": [
        "def get_sets(self):\n",
        "    sets = {}\n",
        "    for i in range(len(self.parent)):\n",
        "        root = self.find(i)# Find the team leader of student 'i'\n",
        "        if root not in sets:\n",
        "            sets[root] = []# Create a new team list if the leader is not yet a key\n",
        "        sets[root].append(i) # Add student 'i' to their respective team list\n",
        "    return sets"
      ],
      "metadata": {
        "id": "zBBJpqwlJwWE"
      },
      "execution_count": 46,
      "outputs": []
    },
    {
      "cell_type": "markdown",
      "source": [
        " Visualization Function\n",
        "\n",
        "- Uses graphviz to generate a visual representation of the team structure.\n",
        "- Each node represents a student, and an arrow from one student to another indicates that the latter reports directly to the former in the team hierarchy. The team leader is represented by a node with a double circle."
      ],
      "metadata": {
        "id": "of0smb4XJx8y"
      }
    },
    {
      "cell_type": "code",
      "source": [
        "from graphviz import Digraph\n",
        "from IPython.display import display\n",
        "\n",
        "def visualize_disjoint_set(ds, step_description=\"\"):\n",
        "    dot = Digraph(comment=step_description)  # Create a new directed graph\n",
        "    for element in range(len(ds.parent)):\n",
        "        dot.node(str(element))  # Add a node for each student\n",
        "        parent = ds.parent[element]\n",
        "        if element != parent:\n",
        "            dot.edge(str(parent), str(element))  # Draw an edge from the team leader to the student\n",
        "        else:\n",
        "            dot.node(str(element), shape='doublecircle')  # Mark the team leader with a double circle\n",
        "    display(dot)  # Display the graph"
      ],
      "metadata": {
        "id": "XoLKlRBzJ5jY"
      },
      "execution_count": 47,
      "outputs": []
    },
    {
      "cell_type": "code",
      "source": [
        "# Example Usage: Team Formation (Following your steps)\n",
        "\n",
        "# We have 5 students: 0, 1, 2, 3, 4\n",
        "num_individuals = 5\n",
        "team_sets = DisjointSet(num_individuals)\n",
        "\n",
        "print(\"Start:\")\n",
        "visualize_disjoint_set(team_sets, \"Initial state: Each student is in their own team.\")\n",
        "\n",
        "# Union(0, 1) -> Students 0 and 1 join the same team.\n",
        "team_sets.union(0, 1)\n",
        "print(\"Union(0, 1): Students 0 and 1 form a team.\")\n",
        "visualize_disjoint_set(team_sets, \"Students 0 and 1 are now in the same team.\")\n",
        "\n",
        "# Union(1, 2) -> Student 2 joins the team of 0 and 1.\n",
        "team_sets.union(1, 2)\n",
        "print(\"Union(1, 2): Student 2 joins the team of 0 and 1.\")\n",
        "visualize_disjoint_set(team_sets, \"Students 0, 1, and 2 are now in the same team.\")\n",
        "\n",
        "# Union(3, 4) -> Students 3 and 4 form another team.\n",
        "team_sets.union(3, 4)\n",
        "print(\"Union(3, 4): Students 3 and 4 form another team.\")\n",
        "visualize_disjoint_set(team_sets, \"Students 3 and 4 have formed their own team.\")\n",
        "\n",
        "# Find(0) -> Which team is student 0 in?\n",
        "team_of_student_0 = team_sets.find(0)\n",
        "print(f\"Find(0): Student 0 is in team (led by): {team_of_student_0}\")\n",
        "\n",
        "# Find(3) -> Which team is student 3 in?\n",
        "team_of_student_3 = team_sets.find(3)\n",
        "print(f\"Find(3): Student 3 is in team (led by): {team_of_student_3}\")\n",
        "\n",
        "# Union(2, 4) -> Merge the two teams together into a single team!\n",
        "team_sets.union(2, 4)\n",
        "print(\"Union(2, 4): The two teams are merged into a single team.\")\n",
        "visualize_disjoint_set(team_sets, \"All students are now in the same team.\")\n",
        "\n",
        "# Display the final team structure:\n",
        "print(\"Final team structure:\")\n",
        "print(team_sets.get_sets())"
      ],
      "metadata": {
        "colab": {
          "base_uri": "https://localhost:8080/",
          "height": 1000
        },
        "id": "8dCqUDksKCWy",
        "outputId": "63e090ff-7ba7-4b0d-f4a5-ce104c2703d9"
      },
      "execution_count": 49,
      "outputs": [
        {
          "output_type": "stream",
          "name": "stdout",
          "text": [
            "Start:\n"
          ]
        },
        {
          "output_type": "display_data",
          "data": {
            "image/svg+xml": "<?xml version=\"1.0\" encoding=\"UTF-8\" standalone=\"no\"?>\n<!DOCTYPE svg PUBLIC \"-//W3C//DTD SVG 1.1//EN\"\n \"http://www.w3.org/Graphics/SVG/1.1/DTD/svg11.dtd\">\n<!-- Generated by graphviz version 2.43.0 (0)\n -->\n<!-- Title: %3 Pages: 1 -->\n<svg width=\"300pt\" height=\"52pt\"\n viewBox=\"0.00 0.00 300.00 52.00\" xmlns=\"http://www.w3.org/2000/svg\" xmlns:xlink=\"http://www.w3.org/1999/xlink\">\n<g id=\"graph0\" class=\"graph\" transform=\"scale(1 1) rotate(0) translate(4 48)\">\n<title>%3</title>\n<polygon fill=\"white\" stroke=\"transparent\" points=\"-4,4 -4,-48 296,-48 296,4 -4,4\"/>\n<!-- 0 -->\n<g id=\"node1\" class=\"node\">\n<title>0</title>\n<ellipse fill=\"none\" stroke=\"black\" cx=\"22\" cy=\"-22\" rx=\"18\" ry=\"18\"/>\n<ellipse fill=\"none\" stroke=\"black\" cx=\"22\" cy=\"-22\" rx=\"22\" ry=\"22\"/>\n<text text-anchor=\"middle\" x=\"22\" y=\"-18.3\" font-family=\"Times,serif\" font-size=\"14.00\">0</text>\n</g>\n<!-- 1 -->\n<g id=\"node2\" class=\"node\">\n<title>1</title>\n<ellipse fill=\"none\" stroke=\"black\" cx=\"84\" cy=\"-22\" rx=\"18\" ry=\"18\"/>\n<ellipse fill=\"none\" stroke=\"black\" cx=\"84\" cy=\"-22\" rx=\"22\" ry=\"22\"/>\n<text text-anchor=\"middle\" x=\"84\" y=\"-18.3\" font-family=\"Times,serif\" font-size=\"14.00\">1</text>\n</g>\n<!-- 2 -->\n<g id=\"node3\" class=\"node\">\n<title>2</title>\n<ellipse fill=\"none\" stroke=\"black\" cx=\"146\" cy=\"-22\" rx=\"18\" ry=\"18\"/>\n<ellipse fill=\"none\" stroke=\"black\" cx=\"146\" cy=\"-22\" rx=\"22\" ry=\"22\"/>\n<text text-anchor=\"middle\" x=\"146\" y=\"-18.3\" font-family=\"Times,serif\" font-size=\"14.00\">2</text>\n</g>\n<!-- 3 -->\n<g id=\"node4\" class=\"node\">\n<title>3</title>\n<ellipse fill=\"none\" stroke=\"black\" cx=\"208\" cy=\"-22\" rx=\"18\" ry=\"18\"/>\n<ellipse fill=\"none\" stroke=\"black\" cx=\"208\" cy=\"-22\" rx=\"22\" ry=\"22\"/>\n<text text-anchor=\"middle\" x=\"208\" y=\"-18.3\" font-family=\"Times,serif\" font-size=\"14.00\">3</text>\n</g>\n<!-- 4 -->\n<g id=\"node5\" class=\"node\">\n<title>4</title>\n<ellipse fill=\"none\" stroke=\"black\" cx=\"270\" cy=\"-22\" rx=\"18\" ry=\"18\"/>\n<ellipse fill=\"none\" stroke=\"black\" cx=\"270\" cy=\"-22\" rx=\"22\" ry=\"22\"/>\n<text text-anchor=\"middle\" x=\"270\" y=\"-18.3\" font-family=\"Times,serif\" font-size=\"14.00\">4</text>\n</g>\n</g>\n</svg>\n",
            "text/plain": [
              "<graphviz.graphs.Digraph at 0x7ce3b44d7090>"
            ]
          },
          "metadata": {}
        },
        {
          "output_type": "stream",
          "name": "stdout",
          "text": [
            "Union(0, 1): Students 0 and 1 form a team.\n"
          ]
        },
        {
          "output_type": "display_data",
          "data": {
            "image/svg+xml": "<?xml version=\"1.0\" encoding=\"UTF-8\" standalone=\"no\"?>\n<!DOCTYPE svg PUBLIC \"-//W3C//DTD SVG 1.1//EN\"\n \"http://www.w3.org/Graphics/SVG/1.1/DTD/svg11.dtd\">\n<!-- Generated by graphviz version 2.43.0 (0)\n -->\n<!-- Title: %3 Pages: 1 -->\n<svg width=\"243pt\" height=\"124pt\"\n viewBox=\"0.00 0.00 243.00 124.00\" xmlns=\"http://www.w3.org/2000/svg\" xmlns:xlink=\"http://www.w3.org/1999/xlink\">\n<g id=\"graph0\" class=\"graph\" transform=\"scale(1 1) rotate(0) translate(4 120)\">\n<title>%3</title>\n<polygon fill=\"white\" stroke=\"transparent\" points=\"-4,4 -4,-120 239,-120 239,4 -4,4\"/>\n<!-- 0 -->\n<g id=\"node1\" class=\"node\">\n<title>0</title>\n<ellipse fill=\"none\" stroke=\"black\" cx=\"27\" cy=\"-94\" rx=\"18\" ry=\"18\"/>\n<ellipse fill=\"none\" stroke=\"black\" cx=\"27\" cy=\"-94\" rx=\"22\" ry=\"22\"/>\n<text text-anchor=\"middle\" x=\"27\" y=\"-90.3\" font-family=\"Times,serif\" font-size=\"14.00\">0</text>\n</g>\n<!-- 1 -->\n<g id=\"node2\" class=\"node\">\n<title>1</title>\n<ellipse fill=\"none\" stroke=\"black\" cx=\"27\" cy=\"-18\" rx=\"27\" ry=\"18\"/>\n<text text-anchor=\"middle\" x=\"27\" y=\"-14.3\" font-family=\"Times,serif\" font-size=\"14.00\">1</text>\n</g>\n<!-- 0&#45;&gt;1 -->\n<g id=\"edge1\" class=\"edge\">\n<title>0&#45;&gt;1</title>\n<path fill=\"none\" stroke=\"black\" d=\"M27,-71.99C27,-64.06 27,-54.91 27,-46.48\"/>\n<polygon fill=\"black\" stroke=\"black\" points=\"30.5,-46.31 27,-36.31 23.5,-46.31 30.5,-46.31\"/>\n</g>\n<!-- 2 -->\n<g id=\"node3\" class=\"node\">\n<title>2</title>\n<ellipse fill=\"none\" stroke=\"black\" cx=\"89\" cy=\"-94\" rx=\"18\" ry=\"18\"/>\n<ellipse fill=\"none\" stroke=\"black\" cx=\"89\" cy=\"-94\" rx=\"22\" ry=\"22\"/>\n<text text-anchor=\"middle\" x=\"89\" y=\"-90.3\" font-family=\"Times,serif\" font-size=\"14.00\">2</text>\n</g>\n<!-- 3 -->\n<g id=\"node4\" class=\"node\">\n<title>3</title>\n<ellipse fill=\"none\" stroke=\"black\" cx=\"151\" cy=\"-94\" rx=\"18\" ry=\"18\"/>\n<ellipse fill=\"none\" stroke=\"black\" cx=\"151\" cy=\"-94\" rx=\"22\" ry=\"22\"/>\n<text text-anchor=\"middle\" x=\"151\" y=\"-90.3\" font-family=\"Times,serif\" font-size=\"14.00\">3</text>\n</g>\n<!-- 4 -->\n<g id=\"node5\" class=\"node\">\n<title>4</title>\n<ellipse fill=\"none\" stroke=\"black\" cx=\"213\" cy=\"-94\" rx=\"18\" ry=\"18\"/>\n<ellipse fill=\"none\" stroke=\"black\" cx=\"213\" cy=\"-94\" rx=\"22\" ry=\"22\"/>\n<text text-anchor=\"middle\" x=\"213\" y=\"-90.3\" font-family=\"Times,serif\" font-size=\"14.00\">4</text>\n</g>\n</g>\n</svg>\n",
            "text/plain": [
              "<graphviz.graphs.Digraph at 0x7ce3b5dc4910>"
            ]
          },
          "metadata": {}
        },
        {
          "output_type": "stream",
          "name": "stdout",
          "text": [
            "Union(1, 2): Student 2 joins the team of 0 and 1.\n"
          ]
        },
        {
          "output_type": "display_data",
          "data": {
            "image/svg+xml": "<?xml version=\"1.0\" encoding=\"UTF-8\" standalone=\"no\"?>\n<!DOCTYPE svg PUBLIC \"-//W3C//DTD SVG 1.1//EN\"\n \"http://www.w3.org/Graphics/SVG/1.1/DTD/svg11.dtd\">\n<!-- Generated by graphviz version 2.43.0 (0)\n -->\n<!-- Title: %3 Pages: 1 -->\n<svg width=\"217pt\" height=\"124pt\"\n viewBox=\"0.00 0.00 217.00 124.00\" xmlns=\"http://www.w3.org/2000/svg\" xmlns:xlink=\"http://www.w3.org/1999/xlink\">\n<g id=\"graph0\" class=\"graph\" transform=\"scale(1 1) rotate(0) translate(4 120)\">\n<title>%3</title>\n<polygon fill=\"white\" stroke=\"transparent\" points=\"-4,4 -4,-120 213,-120 213,4 -4,4\"/>\n<!-- 0 -->\n<g id=\"node1\" class=\"node\">\n<title>0</title>\n<ellipse fill=\"none\" stroke=\"black\" cx=\"63\" cy=\"-94\" rx=\"18\" ry=\"18\"/>\n<ellipse fill=\"none\" stroke=\"black\" cx=\"63\" cy=\"-94\" rx=\"22\" ry=\"22\"/>\n<text text-anchor=\"middle\" x=\"63\" y=\"-90.3\" font-family=\"Times,serif\" font-size=\"14.00\">0</text>\n</g>\n<!-- 1 -->\n<g id=\"node2\" class=\"node\">\n<title>1</title>\n<ellipse fill=\"none\" stroke=\"black\" cx=\"27\" cy=\"-18\" rx=\"27\" ry=\"18\"/>\n<text text-anchor=\"middle\" x=\"27\" y=\"-14.3\" font-family=\"Times,serif\" font-size=\"14.00\">1</text>\n</g>\n<!-- 0&#45;&gt;1 -->\n<g id=\"edge1\" class=\"edge\">\n<title>0&#45;&gt;1</title>\n<path fill=\"none\" stroke=\"black\" d=\"M53.73,-73.94C49.35,-64.95 44.07,-54.09 39.36,-44.41\"/>\n<polygon fill=\"black\" stroke=\"black\" points=\"42.42,-42.7 34.9,-35.23 36.12,-45.76 42.42,-42.7\"/>\n</g>\n<!-- 2 -->\n<g id=\"node3\" class=\"node\">\n<title>2</title>\n<ellipse fill=\"none\" stroke=\"black\" cx=\"99\" cy=\"-18\" rx=\"27\" ry=\"18\"/>\n<text text-anchor=\"middle\" x=\"99\" y=\"-14.3\" font-family=\"Times,serif\" font-size=\"14.00\">2</text>\n</g>\n<!-- 0&#45;&gt;2 -->\n<g id=\"edge2\" class=\"edge\">\n<title>0&#45;&gt;2</title>\n<path fill=\"none\" stroke=\"black\" d=\"M72.27,-73.94C76.65,-64.95 81.93,-54.09 86.64,-44.41\"/>\n<polygon fill=\"black\" stroke=\"black\" points=\"89.88,-45.76 91.1,-35.23 83.58,-42.7 89.88,-45.76\"/>\n</g>\n<!-- 3 -->\n<g id=\"node4\" class=\"node\">\n<title>3</title>\n<ellipse fill=\"none\" stroke=\"black\" cx=\"125\" cy=\"-94\" rx=\"18\" ry=\"18\"/>\n<ellipse fill=\"none\" stroke=\"black\" cx=\"125\" cy=\"-94\" rx=\"22\" ry=\"22\"/>\n<text text-anchor=\"middle\" x=\"125\" y=\"-90.3\" font-family=\"Times,serif\" font-size=\"14.00\">3</text>\n</g>\n<!-- 4 -->\n<g id=\"node5\" class=\"node\">\n<title>4</title>\n<ellipse fill=\"none\" stroke=\"black\" cx=\"187\" cy=\"-94\" rx=\"18\" ry=\"18\"/>\n<ellipse fill=\"none\" stroke=\"black\" cx=\"187\" cy=\"-94\" rx=\"22\" ry=\"22\"/>\n<text text-anchor=\"middle\" x=\"187\" y=\"-90.3\" font-family=\"Times,serif\" font-size=\"14.00\">4</text>\n</g>\n</g>\n</svg>\n",
            "text/plain": [
              "<graphviz.graphs.Digraph at 0x7ce3b6829110>"
            ]
          },
          "metadata": {}
        },
        {
          "output_type": "stream",
          "name": "stdout",
          "text": [
            "Union(3, 4): Students 3 and 4 form another team.\n"
          ]
        },
        {
          "output_type": "display_data",
          "data": {
            "image/svg+xml": "<?xml version=\"1.0\" encoding=\"UTF-8\" standalone=\"no\"?>\n<!DOCTYPE svg PUBLIC \"-//W3C//DTD SVG 1.1//EN\"\n \"http://www.w3.org/Graphics/SVG/1.1/DTD/svg11.dtd\">\n<!-- Generated by graphviz version 2.43.0 (0)\n -->\n<!-- Title: %3 Pages: 1 -->\n<svg width=\"206pt\" height=\"124pt\"\n viewBox=\"0.00 0.00 206.00 124.00\" xmlns=\"http://www.w3.org/2000/svg\" xmlns:xlink=\"http://www.w3.org/1999/xlink\">\n<g id=\"graph0\" class=\"graph\" transform=\"scale(1 1) rotate(0) translate(4 120)\">\n<title>%3</title>\n<polygon fill=\"white\" stroke=\"transparent\" points=\"-4,4 -4,-120 202,-120 202,4 -4,4\"/>\n<!-- 0 -->\n<g id=\"node1\" class=\"node\">\n<title>0</title>\n<ellipse fill=\"none\" stroke=\"black\" cx=\"63\" cy=\"-94\" rx=\"18\" ry=\"18\"/>\n<ellipse fill=\"none\" stroke=\"black\" cx=\"63\" cy=\"-94\" rx=\"22\" ry=\"22\"/>\n<text text-anchor=\"middle\" x=\"63\" y=\"-90.3\" font-family=\"Times,serif\" font-size=\"14.00\">0</text>\n</g>\n<!-- 1 -->\n<g id=\"node2\" class=\"node\">\n<title>1</title>\n<ellipse fill=\"none\" stroke=\"black\" cx=\"27\" cy=\"-18\" rx=\"27\" ry=\"18\"/>\n<text text-anchor=\"middle\" x=\"27\" y=\"-14.3\" font-family=\"Times,serif\" font-size=\"14.00\">1</text>\n</g>\n<!-- 0&#45;&gt;1 -->\n<g id=\"edge1\" class=\"edge\">\n<title>0&#45;&gt;1</title>\n<path fill=\"none\" stroke=\"black\" d=\"M53.73,-73.94C49.35,-64.95 44.07,-54.09 39.36,-44.41\"/>\n<polygon fill=\"black\" stroke=\"black\" points=\"42.42,-42.7 34.9,-35.23 36.12,-45.76 42.42,-42.7\"/>\n</g>\n<!-- 2 -->\n<g id=\"node3\" class=\"node\">\n<title>2</title>\n<ellipse fill=\"none\" stroke=\"black\" cx=\"99\" cy=\"-18\" rx=\"27\" ry=\"18\"/>\n<text text-anchor=\"middle\" x=\"99\" y=\"-14.3\" font-family=\"Times,serif\" font-size=\"14.00\">2</text>\n</g>\n<!-- 0&#45;&gt;2 -->\n<g id=\"edge2\" class=\"edge\">\n<title>0&#45;&gt;2</title>\n<path fill=\"none\" stroke=\"black\" d=\"M72.27,-73.94C76.65,-64.95 81.93,-54.09 86.64,-44.41\"/>\n<polygon fill=\"black\" stroke=\"black\" points=\"89.88,-45.76 91.1,-35.23 83.58,-42.7 89.88,-45.76\"/>\n</g>\n<!-- 3 -->\n<g id=\"node4\" class=\"node\">\n<title>3</title>\n<ellipse fill=\"none\" stroke=\"black\" cx=\"171\" cy=\"-94\" rx=\"18\" ry=\"18\"/>\n<ellipse fill=\"none\" stroke=\"black\" cx=\"171\" cy=\"-94\" rx=\"22\" ry=\"22\"/>\n<text text-anchor=\"middle\" x=\"171\" y=\"-90.3\" font-family=\"Times,serif\" font-size=\"14.00\">3</text>\n</g>\n<!-- 4 -->\n<g id=\"node5\" class=\"node\">\n<title>4</title>\n<ellipse fill=\"none\" stroke=\"black\" cx=\"171\" cy=\"-18\" rx=\"27\" ry=\"18\"/>\n<text text-anchor=\"middle\" x=\"171\" y=\"-14.3\" font-family=\"Times,serif\" font-size=\"14.00\">4</text>\n</g>\n<!-- 3&#45;&gt;4 -->\n<g id=\"edge3\" class=\"edge\">\n<title>3&#45;&gt;4</title>\n<path fill=\"none\" stroke=\"black\" d=\"M171,-71.99C171,-64.06 171,-54.91 171,-46.48\"/>\n<polygon fill=\"black\" stroke=\"black\" points=\"174.5,-46.31 171,-36.31 167.5,-46.31 174.5,-46.31\"/>\n</g>\n</g>\n</svg>\n",
            "text/plain": [
              "<graphviz.graphs.Digraph at 0x7ce3b5de3310>"
            ]
          },
          "metadata": {}
        },
        {
          "output_type": "stream",
          "name": "stdout",
          "text": [
            "Find(0): Student 0 is in team (led by): 0\n",
            "Find(3): Student 3 is in team (led by): 3\n",
            "Union(2, 4): The two teams are merged into a single team.\n"
          ]
        },
        {
          "output_type": "display_data",
          "data": {
            "image/svg+xml": "<?xml version=\"1.0\" encoding=\"UTF-8\" standalone=\"no\"?>\n<!DOCTYPE svg PUBLIC \"-//W3C//DTD SVG 1.1//EN\"\n \"http://www.w3.org/Graphics/SVG/1.1/DTD/svg11.dtd\">\n<!-- Generated by graphviz version 2.43.0 (0)\n -->\n<!-- Title: %3 Pages: 1 -->\n<svg width=\"206pt\" height=\"196pt\"\n viewBox=\"0.00 0.00 206.00 196.00\" xmlns=\"http://www.w3.org/2000/svg\" xmlns:xlink=\"http://www.w3.org/1999/xlink\">\n<g id=\"graph0\" class=\"graph\" transform=\"scale(1 1) rotate(0) translate(4 192)\">\n<title>%3</title>\n<polygon fill=\"white\" stroke=\"transparent\" points=\"-4,4 -4,-192 202,-192 202,4 -4,4\"/>\n<!-- 0 -->\n<g id=\"node1\" class=\"node\">\n<title>0</title>\n<ellipse fill=\"none\" stroke=\"black\" cx=\"99\" cy=\"-166\" rx=\"18\" ry=\"18\"/>\n<ellipse fill=\"none\" stroke=\"black\" cx=\"99\" cy=\"-166\" rx=\"22\" ry=\"22\"/>\n<text text-anchor=\"middle\" x=\"99\" y=\"-162.3\" font-family=\"Times,serif\" font-size=\"14.00\">0</text>\n</g>\n<!-- 1 -->\n<g id=\"node2\" class=\"node\">\n<title>1</title>\n<ellipse fill=\"none\" stroke=\"black\" cx=\"27\" cy=\"-90\" rx=\"27\" ry=\"18\"/>\n<text text-anchor=\"middle\" x=\"27\" y=\"-86.3\" font-family=\"Times,serif\" font-size=\"14.00\">1</text>\n</g>\n<!-- 0&#45;&gt;1 -->\n<g id=\"edge1\" class=\"edge\">\n<title>0&#45;&gt;1</title>\n<path fill=\"none\" stroke=\"black\" d=\"M84.08,-149.67C73.81,-139.11 60,-124.92 48.54,-113.14\"/>\n<polygon fill=\"black\" stroke=\"black\" points=\"50.89,-110.53 41.41,-105.81 45.87,-115.42 50.89,-110.53\"/>\n</g>\n<!-- 2 -->\n<g id=\"node3\" class=\"node\">\n<title>2</title>\n<ellipse fill=\"none\" stroke=\"black\" cx=\"99\" cy=\"-90\" rx=\"27\" ry=\"18\"/>\n<text text-anchor=\"middle\" x=\"99\" y=\"-86.3\" font-family=\"Times,serif\" font-size=\"14.00\">2</text>\n</g>\n<!-- 0&#45;&gt;2 -->\n<g id=\"edge2\" class=\"edge\">\n<title>0&#45;&gt;2</title>\n<path fill=\"none\" stroke=\"black\" d=\"M99,-143.99C99,-136.06 99,-126.91 99,-118.48\"/>\n<polygon fill=\"black\" stroke=\"black\" points=\"102.5,-118.31 99,-108.31 95.5,-118.31 102.5,-118.31\"/>\n</g>\n<!-- 3 -->\n<g id=\"node4\" class=\"node\">\n<title>3</title>\n<ellipse fill=\"none\" stroke=\"black\" cx=\"171\" cy=\"-90\" rx=\"27\" ry=\"18\"/>\n<text text-anchor=\"middle\" x=\"171\" y=\"-86.3\" font-family=\"Times,serif\" font-size=\"14.00\">3</text>\n</g>\n<!-- 0&#45;&gt;3 -->\n<g id=\"edge3\" class=\"edge\">\n<title>0&#45;&gt;3</title>\n<path fill=\"none\" stroke=\"black\" d=\"M113.92,-149.67C124.19,-139.11 138,-124.92 149.46,-113.14\"/>\n<polygon fill=\"black\" stroke=\"black\" points=\"152.13,-115.42 156.59,-105.81 147.11,-110.53 152.13,-115.42\"/>\n</g>\n<!-- 4 -->\n<g id=\"node5\" class=\"node\">\n<title>4</title>\n<ellipse fill=\"none\" stroke=\"black\" cx=\"171\" cy=\"-18\" rx=\"27\" ry=\"18\"/>\n<text text-anchor=\"middle\" x=\"171\" y=\"-14.3\" font-family=\"Times,serif\" font-size=\"14.00\">4</text>\n</g>\n<!-- 3&#45;&gt;4 -->\n<g id=\"edge4\" class=\"edge\">\n<title>3&#45;&gt;4</title>\n<path fill=\"none\" stroke=\"black\" d=\"M171,-71.7C171,-63.98 171,-54.71 171,-46.11\"/>\n<polygon fill=\"black\" stroke=\"black\" points=\"174.5,-46.1 171,-36.1 167.5,-46.1 174.5,-46.1\"/>\n</g>\n</g>\n</svg>\n",
            "text/plain": [
              "<graphviz.graphs.Digraph at 0x7ce3b669d190>"
            ]
          },
          "metadata": {}
        },
        {
          "output_type": "stream",
          "name": "stdout",
          "text": [
            "Final team structure:\n",
            "{0: [0, 1, 2, 3, 4]}\n"
          ]
        }
      ]
    }
  ]
}