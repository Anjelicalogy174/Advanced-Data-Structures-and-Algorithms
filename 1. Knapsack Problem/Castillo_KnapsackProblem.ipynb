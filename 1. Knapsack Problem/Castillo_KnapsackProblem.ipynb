{
 "cells": [
  {
   "cell_type": "markdown",
   "metadata": {},
   "source": [
    "# Knapsack Problem\n",
    "Castillo, Anjelica M. <br>\n",
    "MCSCC 123-MSCS12S1 - Advanced Data Structures and Algorithms"
   ]
  },
  {
   "cell_type": "markdown",
   "metadata": {},
   "source": [
    "### Define the Problem\n",
    "The problem is, crates can’t weight more than 1000 kilograms, and that’s a hard limit. To make things harder, I can choose only from a limited set of things, already packed in boxes: \n"
   ]
  },
  {
   "cell_type": "code",
   "execution_count": 19,
   "metadata": {},
   "outputs": [],
   "source": [
    "import itertools\n",
    "import numpy as np\n",
    "import pandas as pd\n",
    "\n",
    "define_items = [\n",
    "    {\"name\": \"Potatoes\", \"weight\": 800, \"calories\": 1501600},\n",
    "    {\"name\": \"Wheat flour\", \"weight\": 400, \"calories\": 1444000},\n",
    "    {\"name\": \"Rice\", \"weight\": 300, \"calories\": 1122000},\n",
    "    {\"name\": \"Beans (can)\", \"weight\": 300, \"calories\": 690000},\n",
    "    {\"name\": \"Tomatoes (can)\", \"weight\": 300, \"calories\": 237000},\n",
    "    {\"name\": \"Strawberry jam\", \"weight\": 50, \"calories\": 130000},\n",
    "    {\"name\": \"Peanut butter\", \"weight\": 20, \"calories\": 117800}\n",
    "]\n",
    "MAX_WEIGHT = 1000 #The max_weight allowed"
   ]
  },
  {
   "cell_type": "markdown",
   "metadata": {},
   "source": [
    "### Bruteforce Approach"
   ]
  },
  {
   "cell_type": "code",
   "execution_count": 20,
   "metadata": {},
   "outputs": [
    {
     "name": "stdout",
     "output_type": "stream",
     "text": [
      "Brute Force Solution: ((('Wheat flour', 400, 1444000), ('Rice', 300, 1122000), ('Beans (can)', 300, 690000)), 3256000)\n"
     ]
    }
   ],
   "source": [
    "def brute_force_knapsack(items, max_weight):\n",
    "    \"\"\"Solves the problem using brute force.\"\"\"\n",
    "    best_value = 0\n",
    "    best_combination = None\n",
    "    for r in range(len(items) + 1):\n",
    "        for combination in itertools.combinations(items, r):\n",
    "            total_weight = sum(item[1] for item in combination)\n",
    "            total_value = sum(item[2] for item in combination)\n",
    "            if total_weight <= max_weight and total_value > best_value:\n",
    "                best_value = total_value\n",
    "                best_combination = combination\n",
    "    return best_combination, best_value\n",
    "\n",
    "brute_force_result = brute_force_knapsack(items, max_weight)\n",
    "print(\"Brute Force Solution:\", brute_force_result)"
   ]
  },
  {
   "cell_type": "markdown",
   "metadata": {},
   "source": [
    "### Dynamic Approach"
   ]
  },
  {
   "cell_type": "code",
   "execution_count": 21,
   "metadata": {},
   "outputs": [
    {
     "name": "stdout",
     "output_type": "stream",
     "text": [
      "Dynamic Programming Solution: 3256000.0\n"
     ]
    }
   ],
   "source": [
    "\n",
    "def dynamic_knapsack(items, max_weight):\n",
    "    \"\"\"Solves the problem using dynamic programming.\"\"\"\n",
    "    n = len(items)\n",
    "    dp = np.zeros((n + 1, max_weight + 1))\n",
    "    for i in range(1, n + 1):\n",
    "        for w in range(max_weight + 1):\n",
    "            if items[i - 1][1] <= w:\n",
    "                dp[i][w] = max(dp[i - 1][w], dp[i - 1][w - items[i - 1][1]] + items[i - 1][2])\n",
    "            else:\n",
    "                dp[i][w] = dp[i - 1][w]\n",
    "    return dp[n][max_weight]\n",
    "\n",
    "dp_result = dynamic_knapsack(items, max_weight)\n",
    "print(\"Dynamic Programming Solution:\", dp_result)"
   ]
  },
  {
   "cell_type": "markdown",
   "metadata": {},
   "source": [
    "### Fractional Approach"
   ]
  },
  {
   "cell_type": "code",
   "execution_count": 22,
   "metadata": {},
   "outputs": [
    {
     "name": "stdout",
     "output_type": "stream",
     "text": [
      "Fractional Knapsack Solution: ([('Peanut butter', 20, 117800), ('Rice', 300, 1122000), ('Wheat flour', 400, 1444000), ('Strawberry jam', 50, 130000), ('Beans (can)', 230, 529000.0)], 3342800.0)\n"
     ]
    }
   ],
   "source": [
    "def fractional_knapsack(items, max_weight):\n",
    "    \"\"\"Solves the problem using a greedy approach.\"\"\"\n",
    "    items_sorted = sorted(items, key=lambda x: x[2] / x[1], reverse=True)\n",
    "    total_value = 0\n",
    "    selected_items = []\n",
    "    for item in items_sorted:\n",
    "        if max_weight >= item[1]:\n",
    "            selected_items.append((item[0], item[1], item[2]))\n",
    "            max_weight -= item[1]\n",
    "            total_value += item[2]\n",
    "        else:\n",
    "            fraction = max_weight / item[1]\n",
    "            selected_items.append((item[0], max_weight, item[2] * fraction))\n",
    "            total_value += item[2] * fraction\n",
    "            break\n",
    "    return selected_items, total_value\n",
    "\n",
    "fractional_result = fractional_knapsack(items, max_weight)\n",
    "print(\"Fractional Knapsack Solution:\", fractional_result)"
   ]
  },
  {
   "cell_type": "markdown",
   "metadata": {},
   "source": [
    "### Reduce Weight Approach"
   ]
  },
  {
   "cell_type": "code",
   "execution_count": 23,
   "metadata": {},
   "outputs": [
    {
     "name": "stdout",
     "output_type": "stream",
     "text": [
      "Reduced Weight Knapsack Solution: ([('Peanut butter', 10, 58900), ('Rice', 150, 561000), ('Wheat flour', 200, 722000), ('Strawberry jam', 25, 65000), ('Beans (can)', 150, 345000), ('Potatoes', 400, 750800), ('Tomatoes (can)', 65, 51350.0)], 2554050.0)\n"
     ]
    }
   ],
   "source": [
    "def reduce_weight_knapsack(items, max_weight, reduce_factor=0.5):\n",
    "    \"\"\"Solves a problem where we can take partial weights of each item.\"\"\"\n",
    "    adjusted_items = [(item[0], int(item[1] * reduce_factor), int(item[2] * reduce_factor)) for item in items]\n",
    "    return fractional_knapsack(adjusted_items, max_weight)\n",
    "\n",
    "# Define items as (name, weight, calories)\n",
    "items = [\n",
    "    (\"Potatoes\", 800, 1501600),\n",
    "    (\"Wheat flour\", 400, 1444000),\n",
    "    (\"Rice\", 300, 1122000),\n",
    "    (\"Beans (can)\", 300, 690000),\n",
    "    (\"Tomatoes (can)\", 300, 237000),\n",
    "    (\"Strawberry jam\", 50, 130000),\n",
    "    (\"Peanut butter\", 20, 117800)\n",
    "]\n",
    "\n",
    "max_weight = 1000\n",
    "\n",
    "reduced_weight_result = reduce_weight_knapsack(items, max_weight)\n",
    "print(\"Reduced Weight Knapsack Solution:\", reduced_weight_result)"
   ]
  },
  {
   "cell_type": "markdown",
   "metadata": {},
   "source": [
    "### Output & Comparison"
   ]
  },
  {
   "cell_type": "code",
   "execution_count": 24,
   "metadata": {},
   "outputs": [
    {
     "data": {
      "text/html": [
       "<div>\n",
       "<style scoped>\n",
       "    .dataframe tbody tr th:only-of-type {\n",
       "        vertical-align: middle;\n",
       "    }\n",
       "\n",
       "    .dataframe tbody tr th {\n",
       "        vertical-align: top;\n",
       "    }\n",
       "\n",
       "    .dataframe thead th {\n",
       "        text-align: right;\n",
       "    }\n",
       "</style>\n",
       "<table border=\"1\" class=\"dataframe\">\n",
       "  <thead>\n",
       "    <tr style=\"text-align: right;\">\n",
       "      <th></th>\n",
       "      <th>Approach</th>\n",
       "      <th>Total Calories</th>\n",
       "    </tr>\n",
       "  </thead>\n",
       "  <tbody>\n",
       "    <tr>\n",
       "      <th>0</th>\n",
       "      <td>Brute Force</td>\n",
       "      <td>3256000.0</td>\n",
       "    </tr>\n",
       "    <tr>\n",
       "      <th>1</th>\n",
       "      <td>Dynamic Programming</td>\n",
       "      <td>3256000.0</td>\n",
       "    </tr>\n",
       "    <tr>\n",
       "      <th>2</th>\n",
       "      <td>Fractional Knapsack</td>\n",
       "      <td>3342800.0</td>\n",
       "    </tr>\n",
       "    <tr>\n",
       "      <th>3</th>\n",
       "      <td>Reduced Weight Knapsack</td>\n",
       "      <td>2554050.0</td>\n",
       "    </tr>\n",
       "  </tbody>\n",
       "</table>\n",
       "</div>"
      ],
      "text/plain": [
       "                  Approach  Total Calories\n",
       "0              Brute Force       3256000.0\n",
       "1      Dynamic Programming       3256000.0\n",
       "2      Fractional Knapsack       3342800.0\n",
       "3  Reduced Weight Knapsack       2554050.0"
      ]
     },
     "metadata": {},
     "output_type": "display_data"
    }
   ],
   "source": [
    "# Create DataFrame to visualize results\n",
    "data = {\n",
    "    \"Approach\": [\"Brute Force\", \"Dynamic Programming\", \"Fractional Knapsack\", \"Reduced Weight Knapsack\"],\n",
    "    \"Total Calories\": [brute_force_result[1], dp_result, fractional_result[1], reduced_weight_result[1]]\n",
    "}\n",
    "df = pd.DataFrame(data)\n",
    "display(df)"
   ]
  },
  {
   "cell_type": "markdown",
   "metadata": {},
   "source": [
    "# Adjust weights to maximize calories\n",
    "#### This is the solution that I find most effective because it allows me to include all the items without completely removing any of them. Instead of excluding lower-priority items, it intelligently reduces their weights while still maximizing the total calorie intake within the given weight limit. This way, I can ensure a balanced distribution of food items, making the solution more practical and efficient in real-world scenarios where completely discarding certain resources is not ideal. I really appreciate how this approach maintains variety while optimizing for the highest possible calorie count."
   ]
  },
  {
   "cell_type": "code",
   "execution_count": 25,
   "metadata": {},
   "outputs": [
    {
     "name": "stdout",
     "output_type": "stream",
     "text": [
      "Adjusted Item Weights and Calories:\n",
      "Peanut butter: 1 kg, 5890 calories\n",
      "Rice: 70 kg, 261800 calories\n",
      "Wheat flour: 180 kg, 649800 calories\n",
      "Strawberry jam: 1 kg, 2600 calories\n",
      "Beans (can): 80 kg, 184000 calories\n",
      "Potatoes: 580 kg, 1088660 calories\n",
      "Tomatoes (can): 80 kg, 63200 calories\n",
      "\n",
      "Total Calories: 2255950\n"
     ]
    }
   ],
   "source": [
    "def adjust_weights_to_maximize_calories(items, max_weight):\n",
    "    \"\"\"Adjusts item weights to fit within max_weight while maximizing total calories without removing any item.\"\"\"\n",
    "    total_weight = sum(item[1] for item in items)\n",
    "    if total_weight <= max_weight:\n",
    "        return items, sum(item[2] for item in items)\n",
    "    \n",
    "    # Sort items by calorie density (calories per kg)\n",
    "    items_sorted = sorted(items, key=lambda x: x[2] / x[1], reverse=True)\n",
    "    \n",
    "    # Reduce weights proportionally while keeping all items with at least 1 kg weight\n",
    "    while total_weight > max_weight:\n",
    "        for i in range(len(items_sorted)):\n",
    "            if total_weight <= max_weight:\n",
    "                break\n",
    "            if items_sorted[i][1] > 1:  # Ensure item retains at least 1 kg\n",
    "                reduction = min(10, items_sorted[i][1] - 1)  # Reduce in small steps, keeping at least 1 kg\n",
    "                new_weight = items_sorted[i][1] - reduction\n",
    "                new_calories = items_sorted[i][2] * (new_weight / items_sorted[i][1])\n",
    "                items_sorted[i] = (items_sorted[i][0], new_weight, new_calories)\n",
    "                total_weight -= reduction\n",
    "    \n",
    "    total_calories = sum(item[2] for item in items_sorted)\n",
    "    return items_sorted, total_calories\n",
    "\n",
    "# Define items as (name, weight, calories)\n",
    "items = [\n",
    "    (\"Potatoes\", 800, 1501600),\n",
    "    (\"Wheat flour\", 400, 1444000),\n",
    "    (\"Rice\", 300, 1122000),\n",
    "    (\"Beans (can)\", 300, 690000),\n",
    "    (\"Tomatoes (can)\", 300, 237000),\n",
    "    (\"Strawberry jam\", 50, 130000),\n",
    "    (\"Peanut butter\", 20, 117800)\n",
    "]\n",
    "\n",
    "max_weight = 1000\n",
    "\n",
    "# Run the weight adjustment algorithm\n",
    "adjusted_items, total_calories = adjust_weights_to_maximize_calories(items, max_weight)\n",
    "\n",
    "print(\"Adjusted Item Weights and Calories:\")\n",
    "for item in adjusted_items:\n",
    "    print(f\"{item[0]}: {item[1]} kg, {int(item[2])} calories\")\n",
    "\n",
    "print(\"\\nTotal Calories:\", int(total_calories))\n"
   ]
  }
 ],
 "metadata": {
  "kernelspec": {
   "display_name": "base",
   "language": "python",
   "name": "python3"
  },
  "language_info": {
   "codemirror_mode": {
    "name": "ipython",
    "version": 3
   },
   "file_extension": ".py",
   "mimetype": "text/x-python",
   "name": "python",
   "nbconvert_exporter": "python",
   "pygments_lexer": "ipython3",
   "version": "3.11.5"
  }
 },
 "nbformat": 4,
 "nbformat_minor": 2
}
